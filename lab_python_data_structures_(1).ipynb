{
  "cells": [
    {
      "cell_type": "markdown",
      "metadata": {
        "tags": [],
        "id": "4NheG82LTDFH"
      },
      "source": [
        "# Lab | Data Structures"
      ]
    },
    {
      "cell_type": "markdown",
      "metadata": {
        "id": "mHjpD7IsTDFJ"
      },
      "source": [
        "## Exercise: Managing Customer Orders\n",
        "\n",
        "As part of a business venture, you are starting an online store that sells various products. To ensure smooth operations, you need to develop a program that manages customer orders and inventory.\n",
        "\n",
        "Follow the steps below to complete the exercise:\n",
        "\n",
        "1. Define a list called `products` that contains the following items: \"t-shirt\", \"mug\", \"hat\", \"book\", \"keychain\".\n",
        "\n",
        "2. Create an empty dictionary called `inventory`.\n",
        "\n",
        "3. Ask the user to input the quantity of each product available in the inventory. Use the product names from the `products` list as keys in the `inventory` dictionary and assign the respective quantities as values.\n",
        "\n",
        "4. Create an empty set called `customer_orders`.\n",
        "\n",
        "5. Ask the user to input the name of three products that a customer wants to order (from those in the products list, meaning three products out of \"t-shirt\", \"mug\", \"hat\", \"book\" or \"keychain\". Add each product name to the `customer_orders` set.\n",
        "\n",
        "6. Print the products in the `customer_orders` set.\n",
        "\n",
        "7. Calculate the following order statistics:\n",
        "   - Total Products Ordered: The total number of products in the `customer_orders` set.\n",
        "   - Percentage of Products Ordered: The percentage of products ordered compared to the total available products.\n",
        "   \n",
        "   Store these statistics in a tuple called `order_status`.\n",
        "\n",
        "8. Print the order statistics using the following format:\n",
        "   ```\n",
        "   Order Statistics:\n",
        "   Total Products Ordered: <total_products_ordered>\n",
        "   Percentage of Products Ordered: <percentage_ordered>%\n",
        "   ```\n",
        "\n",
        "9. Update the inventory by subtracting 1 from the quantity of each product. Modify the `inventory` dictionary accordingly.\n",
        "\n",
        "10. Print the updated inventory, displaying the quantity of each product on separate lines.\n",
        "\n",
        "Solve the exercise by implementing the steps using the Python concepts of lists, dictionaries, sets, and basic input/output operations."
      ]
    },
    {
      "cell_type": "code",
      "execution_count": null,
      "metadata": {
        "id": "0g7iQT5xTDFL"
      },
      "outputs": [],
      "source": [
        "# 1.Define a list called products that contains the following items: \"t-shirt\", \"mug\", \"hat\", \"book\", \"keychain\".\n",
        "products = [\"t-shirt\", \"mug\", \"hat\", \"book\", \"keychain\"]"
      ]
    },
    {
      "cell_type": "code",
      "execution_count": null,
      "metadata": {
        "id": "mgCbWVOVTDFM"
      },
      "outputs": [],
      "source": [
        "# 2.Create an empty dictionary called inventory.\n",
        "inventory = {}"
      ]
    },
    {
      "cell_type": "code",
      "execution_count": null,
      "metadata": {
        "id": "ejQOHX8zTDFN",
        "outputId": "2226fc43-1e9a-4317-aa04-ec71071aea50"
      },
      "outputs": [
        {
          "name": "stdin",
          "output_type": "stream",
          "text": [
            "please enter quantity of T-Shirt avilable in the inventory:  2\n",
            "please enter quantity of mug avilable in the inventory:  3\n",
            "please enter quantity of hat avilable in the inventory:  4\n",
            "please enter quantity of book avilable in the inventory:  5\n",
            "please enter quantity of keychain avilable in the inventory:  6\n"
          ]
        },
        {
          "name": "stdout",
          "output_type": "stream",
          "text": [
            "{'t-shirt': 2, 'mug': 3, 'hat': 4, 'book': 5, 'keychain': 6}\n"
          ]
        }
      ],
      "source": [
        "#3.Ask the user to input the quantity of each product available in the inventory. Use the product names from the products list as keys in the inventory dictionary and assign the respective quantities as values.\n",
        "shirt = int(input(\"please enter quantity of T-Shirt avilable in the inventory: \"))\n",
        "mug = int(input(\"please enter quantity of mug avilable in the inventory: \"))\n",
        "hat = int(input(\"please enter quantity of hat avilable in the inventory: \"))\n",
        "book = int(input(\"please enter quantity of book avilable in the inventory: \"))\n",
        "keychain = int(input(\"please enter quantity of keychain avilable in the inventory: \"))\n",
        "\n",
        "inventory = {\"t-shirt\": shirt, \"mug\": mug, \"hat\": hat, \"book\": book, \"keychain\": keychain}\n",
        "print(inventory)"
      ]
    },
    {
      "cell_type": "code",
      "execution_count": null,
      "metadata": {
        "id": "bnRNvwlQTDFP"
      },
      "outputs": [],
      "source": [
        "#4.Create an empty set called customer_orders.\n",
        "customer_orders = ()"
      ]
    },
    {
      "cell_type": "code",
      "execution_count": null,
      "metadata": {
        "id": "41tgqquRTDFP",
        "outputId": "3f1ebe89-6cca-4eef-bb2a-be4be71809b8"
      },
      "outputs": [
        {
          "name": "stdin",
          "output_type": "stream",
          "text": [
            "please enter the first product:  book\n",
            "please enter the second product:  mug\n",
            "please enter the third product:  hat\n"
          ]
        }
      ],
      "source": [
        "#5. Ask the user to input the name of three products that a customer wants to order (from those in the products list, meaning three products out of \"t-shirt\", \"mug\", \"hat\", \"book\" or \"keychain\". Add each product name to the customer_orders set.\n",
        "product_one = str(input(\"please enter the first product: \"))\n",
        "product_two = str(input(\"please enter the second product: \"))\n",
        "product_three = str(input(\"please enter the third product: \"))"
      ]
    },
    {
      "cell_type": "code",
      "execution_count": null,
      "metadata": {
        "id": "ZyKUuVeaTDFQ",
        "outputId": "bc852160-0505-4bb5-c8fb-70fa252d5c65"
      },
      "outputs": [
        {
          "name": "stdout",
          "output_type": "stream",
          "text": [
            "{'book', 'mug', 'hat'}\n"
          ]
        }
      ],
      "source": [
        "#6. Print the products in the customer_orders set.\n",
        "customer_orders = {product_one, product_two, product_three}\n",
        "print(customer_orders)"
      ]
    },
    {
      "cell_type": "code",
      "execution_count": null,
      "metadata": {
        "id": "pW1x0qroTDFQ",
        "outputId": "77a34b8b-3efd-447a-bc3e-1faa02984842"
      },
      "outputs": [
        {
          "name": "stdout",
          "output_type": "stream",
          "text": [
            "3\n"
          ]
        }
      ],
      "source": [
        "#7.(1) Total Products Ordered: The total number of products in the customer_orders set.\n",
        "print(len(customer_orders))1_variables_operators"
      ]
    },
    {
      "cell_type": "code",
      "execution_count": null,
      "metadata": {
        "id": "CBRcLhW6TDFQ"
      },
      "outputs": [],
      "source": [
        "total_products = len(products)"
      ]
    },
    {
      "cell_type": "code",
      "execution_count": null,
      "metadata": {
        "id": "lMiNLBNDTDFR",
        "outputId": "4318ff1b-dde9-42ac-bb4b-eb7c9e6fc9ab"
      },
      "outputs": [
        {
          "name": "stdout",
          "output_type": "stream",
          "text": [
            "5\n"
          ]
        }
      ],
      "source": [
        "print (total_products)"
      ]
    },
    {
      "cell_type": "code",
      "execution_count": null,
      "metadata": {
        "id": "e0Y1F3uxTDFR",
        "outputId": "d698fdb1-6e18-418d-825c-6c2d74d965f6"
      },
      "outputs": [
        {
          "name": "stdout",
          "output_type": "stream",
          "text": [
            "60.0\n"
          ]
        }
      ],
      "source": [
        "# Percentage of Products Ordered: The percentage of products ordered compared to the total available products.\n",
        "\n",
        "percentage = len(customer_orders) / total_products * 100\n",
        "print(percentage)"
      ]
    },
    {
      "cell_type": "code",
      "execution_count": null,
      "metadata": {
        "id": "2W98p3ATTDFS",
        "outputId": "bf9a9eea-3617-44c3-df25-f1065c14e0ea"
      },
      "outputs": [
        {
          "name": "stdout",
          "output_type": "stream",
          "text": [
            "(5, 60.0)\n"
          ]
        }
      ],
      "source": [
        "#Store these statistics in a tuple called order_statuspercentage\n",
        "order_status = ( total_products , percentage )\n",
        "print (order_status)"
      ]
    },
    {
      "cell_type": "code",
      "execution_count": null,
      "metadata": {
        "id": "iunmwiU7TDFS"
      },
      "outputs": [],
      "source": [
        "# Print the order statistics using the following format:\n",
        "\n",
        "# Order Statistics:\n",
        "order_statistics = \"Total Products Ordered: \" + str(total_products) + \" &\" \" Percentage of Products Ordered: \" + str(percentage)"
      ]
    },
    {
      "cell_type": "code",
      "execution_count": null,
      "metadata": {
        "id": "-DRrmTzjTDFS",
        "outputId": "31785ced-8d5c-4c93-8a80-5dba2aa18340"
      },
      "outputs": [
        {
          "name": "stdout",
          "output_type": "stream",
          "text": [
            "Total Products Ordered: 5 & Percentage of Products Ordered: 60.0\n"
          ]
        }
      ],
      "source": [
        "print(order_statistics)"
      ]
    },
    {
      "cell_type": "code",
      "execution_count": null,
      "metadata": {
        "id": "0o2Qh9K2TDFT",
        "outputId": "37599050-73a5-4ce2-c114-4bec7ad645a0"
      },
      "outputs": [
        {
          "name": "stdout",
          "output_type": "stream",
          "text": [
            "{'t-shirt': 1, 'mug': 3, 'hat': 4, 'book': 5, 'keychain': 6}\n",
            "{'t-shirt': 1, 'mug': 2, 'hat': 4, 'book': 5, 'keychain': 6}\n",
            "{'t-shirt': 1, 'mug': 2, 'hat': 3, 'book': 5, 'keychain': 6}\n",
            "{'t-shirt': 1, 'mug': 2, 'hat': 3, 'book': 4, 'keychain': 6}\n",
            "{'t-shirt': 1, 'mug': 2, 'hat': 3, 'book': 4, 'keychain': 5}\n"
          ]
        }
      ],
      "source": [
        "# Total Products Ordered: <total_products_ordered>\n",
        "for i in inventory:\n",
        "    inventory[i] -= 1\n",
        "    print(inventory)"
      ]
    },
    {
      "cell_type": "code",
      "execution_count": null,
      "metadata": {
        "id": "ZI23xHkSTDFT",
        "outputId": "e73b1d58-2c9c-4b91-d054-ed6d2792dded"
      },
      "outputs": [
        {
          "name": "stdout",
          "output_type": "stream",
          "text": [
            "t-shirt : 1\n",
            "mug : 2\n",
            "hat : 3\n",
            "book : 4\n",
            "keychain : 5\n"
          ]
        }
      ],
      "source": [
        "# Percentage of Products Ordered: <percentage_ordered>%\n",
        "for i in inventory:\n",
        "    print(f\"{i} : {inventory[i]}\")"
      ]
    },
    {
      "cell_type": "code",
      "execution_count": null,
      "metadata": {
        "id": "F2oLD1BeTDFT"
      },
      "outputs": [],
      "source": []
    }
  ],
  "metadata": {
    "kernelspec": {
      "display_name": "Python 3 (ipykernel)",
      "language": "python",
      "name": "python3"
    },
    "language_info": {
      "codemirror_mode": {
        "name": "ipython",
        "version": 3
      },
      "file_extension": ".py",
      "mimetype": "text/x-python",
      "name": "python",
      "nbconvert_exporter": "python",
      "pygments_lexer": "ipython3",
      "version": "3.12.4"
    },
    "colab": {
      "provenance": []
    }
  },
  "nbformat": 4,
  "nbformat_minor": 0
}